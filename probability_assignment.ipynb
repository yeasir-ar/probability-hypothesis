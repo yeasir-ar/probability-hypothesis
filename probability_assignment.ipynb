{
 "cells": [
  {
   "cell_type": "markdown",
   "metadata": {},
   "source": [
    "## Task 1: Discrete Probability Distribution"
   ]
  },
  {
   "cell_type": "code",
   "execution_count": 28,
   "metadata": {},
   "outputs": [
    {
     "data": {
      "image/png": "[encoded data removed]",
      "text/plain": [
       "<Figure size 800x500 with 1 Axes>"
      ]
     },
     "metadata": {},
     "output_type": "display_data"
    }
   ],
   "source": [
    "import numpy as np\n",
    "import matplotlib.pyplot as plt\n",
    "\n",
    "# Function to simulate a discrete random variable\n",
    "def simulate_die_rolls(num_rolls, die_faces):\n",
    "    rolls = np.random.choice(die_faces, size=num_rolls, replace=True)\n",
    "    return rolls\n",
    "\n",
    "# Function to calculate the probability mass function (PMF)\n",
    "def calculate_pmf(rolls, die_faces):\n",
    "    pmf = [np.sum(rolls == face) / len(rolls) for face in die_faces]\n",
    "    return pmf\n",
    "\n",
    "# Function to plot the PMF using a bar plot\n",
    "def plot_pmf(die_faces, pmf):\n",
    "    plt.figure(figsize=(8, 5))\n",
    "    plt.bar(die_faces, pmf, tick_label=die_faces)\n",
    "    plt.title('PMF of a Fair Die Roll')\n",
    "    plt.xlabel('Die Face (1-6)')\n",
    "    plt.ylabel('Probability')\n",
    "    plt.show()\n",
    "\n",
    "# Generate 10,000 random rolls of a fair die\n",
    "die_faces = [1, 2, 3, 4, 5, 6]\n",
    "num_rolls = 10000\n",
    "rolls = simulate_die_rolls(num_rolls, die_faces)\n",
    "\n",
    "# Calculate and plot the PMF\n",
    "pmf = calculate_pmf(rolls, die_faces)\n",
    "plot_pmf(die_faces, pmf)\n"
   ]
  },
  {
   "cell_type": "markdown",
   "metadata": {},
   "source": [
    "## Task 2: Binomial Distribution"
   ]
  },
  {
   "cell_type": "code",
   "execution_count": null,
   "metadata": {},
   "outputs": [
    {
     "name": "stdout",
     "output_type": "stream",
     "text": [
      "Probability of exactly 3 correct answers: 0.1852\n",
      "Probability of at least 2 correct answers: 0.5798\n",
      "Probability of at most 2 correct answers: 0.7443\n",
      "Probability of less than 5 correct answers: 0.9891\n"
     ]
    }
   ],
   "source": [
    "import math\n",
    "\n",
    "# Function to calculate binomial probability mass function (PMF)\n",
    "def binomial_pmf(x, n, p):\n",
    "    combination = math.factorial(n) / (math.factorial(x) * math.factorial(n - x))\n",
    "    return combination * (p ** x) * ((1 - p) ** (n - x))\n",
    "\n",
    "# Function to calculate binomial cumulative distribution function (CDF)\n",
    "def binomial_cdf(k, n, p):\n",
    "    cdf = 0\n",
    "    for i in range(k + 1):\n",
    "        cdf += binomial_pmf(i, n, p)\n",
    "    return cdf\n",
    "\n",
    "n = 6  # Number of questions\n",
    "p = 0.3  # Probability of correct\n",
    "\n",
    "prob_3_correct = binomial_pmf(3, n, p)\n",
    "prob_at_least_2 = 1 - binomial_cdf(1, n, p)\n",
    "prob_at_most_2 = binomial_cdf(2, n, p)\n",
    "prob_less_than_5 = binomial_cdf(4, n, p)\n",
    "\n",
    "print(f\"Probability of exactly 3 correct answers: {prob_3_correct:.4f}\")\n",
    "print(f\"Probability of at least 2 correct answers: {prob_at_least_2:.4f}\")\n",
    "print(f\"Probability of at most 2 correct answers: {prob_at_most_2:.4f}\")\n",
    "print(f\"Probability of less than 5 correct answers: {prob_less_than_5:.4f}\")\n"
   ]
  },
  {
   "cell_type": "markdown",
   "metadata": {},
   "source": [
    "## Task 3: Poisson Distribution"
   ]
  },
  {
   "cell_type": "code",
   "execution_count": null,
   "metadata": {},
   "outputs": [
    {
     "name": "stdout",
     "output_type": "stream",
     "text": [
      "Probability of exactly three will exprience anaphylaxix: 0.0018\n",
      "Probability of at least two will exprience anaphylaxix: 0.9999\n",
      "Probability of at most two will exprience anaphylaxix: 0.0005\n"
     ]
    }
   ],
   "source": [
    "# Function to calculate poisson probability mass function (PMF)\n",
    "def poision_pmf(k,lmd):\n",
    "    return (lmd**k * np.exp(-lmd)) / math.factorial(k)\n",
    "\n",
    "# Function to calculate poisson cumulative distribution function (CDF)\n",
    "def poision_cdf(k,lmd):\n",
    "    cdf = 0\n",
    "    for i in range(k + 1):\n",
    "        cdf += poision_pmf(i, lmd)\n",
    "    return cdf\n",
    "\n",
    "incidents_per_year = 12\n",
    "prob_3_incidents = poision_pmf(3, incidents_per_year)\n",
    "prob_at_least_2_incidents = 1 - poision_cdf(1, incidents_per_year)\n",
    "prob_at_most_2_incidents = poision_cdf(2, incidents_per_year)\n",
    "\n",
    "print(f\"Probability of exactly three will exprience anaphylaxix: {prob_3_incidents:.4f}\")\n",
    "print(f\"Probability of at least two will exprience anaphylaxix: {prob_at_least_2_incidents:.4f}\")\n",
    "print(f\"Probability of at most two will exprience anaphylaxix: {prob_at_most_2_incidents:.4f}\")\n"
   ]
  },
  {
   "cell_type": "markdown",
   "metadata": {},
   "source": [
    "## Task 4: Normal Distribution"
   ]
  },
  {
   "cell_type": "code",
   "execution_count": 29,
   "metadata": {},
   "outputs": [
    {
     "name": "stdout",
     "output_type": "stream",
     "text": [
      "Chance of height above 168 cm: 0.0548\n",
      "Percentage of students with height above 168 cm: 5.48%\n",
      "Number of students with height between 150 cm and 175 cm: 488\n"
     ]
    }
   ],
   "source": [
    "from scipy.stats import norm\n",
    "\n",
    "def calculate_height_stat(mean_height, std_dev, total_students):\n",
    "    # a: Probability of height above 168 cm\n",
    "    z_score_168 = (168 - mean_height) / std_dev\n",
    "    prob_above_168 = 1 - norm.cdf(z_score_168)\n",
    "\n",
    "    # b: Percentage of students with height above 168 cm\n",
    "    percentage_above_168 = prob_above_168 * 100\n",
    "\n",
    "    # c: Number of students with height between 150 cm and 175 cm\n",
    "    z_score_150 = (150 - mean_height) / std_dev\n",
    "    z_score_175 = (175 - mean_height) / std_dev\n",
    "    prob_between_150_175 = norm.cdf(z_score_175) - norm.cdf(z_score_150)\n",
    "    num_students_between_150_175 = total_students * prob_between_150_175\n",
    "\n",
    "    print(f\"Chance of height above 168 cm: {prob_above_168:.4f}\")\n",
    "    print(f\"Percentage of students with height above 168 cm: {percentage_above_168:.2f}%\")\n",
    "    print(f\"Number of students with height between 150 cm and 175 cm: {num_students_between_150_175:.0f}\")\n",
    "\n",
    "# Given values\n",
    "mean_height = 160 \n",
    "std_dev = 5 \n",
    "total_students = 500\n",
    "calculate_height_stat(mean_height, std_dev, total_students)\n"
   ]
  }
 ],
 "metadata": {
  "kernelspec": {
   "display_name": "env",
   "language": "python",
   "name": "python3"
  },
  "language_info": {
   "codemirror_mode": {
    "name": "ipython",
    "version": 3
   },
   "file_extension": ".py",
   "mimetype": "text/x-python",
   "name": "python",
   "nbconvert_exporter": "python",
   "pygments_lexer": "ipython3",
   "version": "3.13.0"
  }
 },
 "nbformat": 4,
 "nbformat_minor": 2
}
